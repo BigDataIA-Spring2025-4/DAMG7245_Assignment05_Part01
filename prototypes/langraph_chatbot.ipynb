{
 "cells": [
  {
   "cell_type": "markdown",
   "metadata": {},
   "source": [
    "## LangGraph Quickstart"
   ]
  },
  {
   "cell_type": "code",
   "execution_count": null,
   "metadata": {},
   "outputs": [],
   "source": [
    "# %%capture --no-stderr\n",
    "# %pip install -U langgraph langsmith langchain_anthropic"
   ]
  },
  {
   "cell_type": "code",
   "execution_count": null,
   "metadata": {},
   "outputs": [],
   "source": [
    "# %%capture --no-stderr\n",
    "# %pip install -U langchain_community langchain_anthropic langchain_experimental matplotlib langgraph"
   ]
  },
  {
   "cell_type": "code",
   "execution_count": 3,
   "metadata": {},
   "outputs": [],
   "source": [
    "from typing import TypedDict, Annotated, Optional, List, Union\n",
    "from langchain_core.agents import AgentAction, AgentFinish\n",
    "from langchain_core.messages import BaseMessage\n",
    "import operator\n",
    "\n",
    "import os\n",
    "from dotenv import load_dotenv\n",
    "\n",
    "OPENAI_API_KEY = os.getenv(\"OPENAI_API_KEY\")"
   ]
  },
  {
   "cell_type": "code",
   "execution_count": null,
   "metadata": {},
   "outputs": [],
   "source": [
    "class AgentState(TypedDict):\n",
    "    input: str\n",
    "    chat_history: list[BaseMessage]\n",
    "    intermediate_steps: Annotated[list[tuple[AgentAction, str]], operator.add]"
   ]
  },
  {
   "cell_type": "markdown",
   "metadata": {},
   "source": [
    "## Test"
   ]
  },
  {
   "cell_type": "code",
   "execution_count": 1,
   "metadata": {},
   "outputs": [],
   "source": [
    "from typing import TypedDict, Annotated, Optional, List, Union\n",
    "from langchain_core.agents import AgentAction, AgentFinish\n",
    "from langchain_core.messages import BaseMessage\n",
    "import operator\n",
    "\n",
    "from langchain_core.prompts import ChatPromptTemplate, MessagesPlaceholder\n",
    "\n",
    "from langgraph.graph import StateGraph, END\n",
    "from langchain_core.tools import tool\n",
    "from langchain_core.messages import ToolCall, ToolMessage\n",
    "from langchain_openai import ChatOpenAI\n",
    "from serpapi import GoogleSearch\n",
    "\n",
    "from functools import partial\n",
    "\n",
    "import os\n",
    "from dotenv import load_dotenv\n",
    "\n"
   ]
  },
  {
   "cell_type": "code",
   "execution_count": 2,
   "metadata": {},
   "outputs": [],
   "source": [
    "OPENAI_API_KEY = os.getenv(\"OPENAI_API_KEY\")\n",
    "SERPAPI_KEY = os.getenv(\"SERPAPI_KEY\")"
   ]
  },
  {
   "cell_type": "code",
   "execution_count": 4,
   "metadata": {},
   "outputs": [],
   "source": [
    "class AgentState(TypedDict):\n",
    "    input: str\n",
    "    chat_history: list[BaseMessage]\n",
    "    intermediate_steps: Annotated[list[tuple[AgentAction, str]], operator.add]\n",
    "    year: Optional[str]\n",
    "    quarter: Optional[List]"
   ]
  },
  {
   "cell_type": "code",
   "execution_count": null,
   "metadata": {},
   "outputs": [],
   "source": [
    "\n",
    "\n",
    "# search = GoogleSearch({\n",
    "#         **serpapi_params,\n",
    "#         \"q\": \"what are the NVIDIA Risk factors\",\n",
    "#         \"num\": 3\n",
    "#     })\n",
    "# results = search.get_dict()[\"organic_results\"]"
   ]
  },
  {
   "cell_type": "code",
   "execution_count": null,
   "metadata": {},
   "outputs": [],
   "source": [
    "# contexts = \"\\n---\\n\".join(\n",
    "#     [\"\\n\".join([x[\"title\"], x[\"snippet\"], x[\"link\"]]) for x in results])"
   ]
  },
  {
   "cell_type": "code",
   "execution_count": null,
   "metadata": {},
   "outputs": [
    {
     "name": "stdout",
     "output_type": "stream",
     "text": [
      "Nvidia (NVDA) Stock Risk Analysis\n",
      "Risk Factors Full Breakdown - Total Risks 23 ; Economy & Political Environment1 | 4.3% ; International Operations1 | 4.3% ; Natural and Human Disruptions2 | 8.7%.\n",
      "https://www.tipranks.com/stocks/nvda/risk-factors\n",
      "---\n",
      "4 Risks Nvidia Investors Should Consider as They ...\n",
      "Returning to Nvidia, there are four risks that investors need to watch out for right now, even as they celebrate the stock split.\n",
      "https://www.nasdaq.com/articles/4-risks-nvidia-investors-should-consider-they-celebrate-nvda-stock-split\n",
      "---\n",
      "What are the real risks of NVDA? : r/NVDA_Stock\n",
      "Biggest risks to NVDA are 1) big tech decides enough spend is enough, 2) big tech succeeds in building their own good enough chips, and most ...\n",
      "https://www.reddit.com/r/NVDA_Stock/comments/1eioqk4/what_are_the_real_risks_of_nvda/\n"
     ]
    }
   ],
   "source": [
    "# print(contexts)"
   ]
  },
  {
   "cell_type": "code",
   "execution_count": 5,
   "metadata": {},
   "outputs": [],
   "source": [
    "# @tool\n",
    "# def human_assistance(query: str) -> str:\n",
    "#     \"\"\"Request assistance from a human.\"\"\"\n",
    "#     human_response = interrupt({\"query\": query})\n",
    "#     return human_response[\"data\"]\n",
    "\n",
    "\n",
    "@tool(\"web_search\")\n",
    "def web_search(query: str):\n",
    "    \"\"\"Finds general knowledge information using Google search. Can also be used\n",
    "    to augment more 'general' knowledge to a previous specialist query.\"\"\"\n",
    "    serpapi_params = {\n",
    "        \"api_key\": SERPAPI_KEY,  # <-- Add your SerpAPI key\n",
    "        \"engine\": \"google\",  # Specifies Google Search Engine\n",
    "    }\n",
    "\n",
    "    search = GoogleSearch({\n",
    "        **serpapi_params,\n",
    "        \"q\": query,\n",
    "        \"num\": 5\n",
    "    })\n",
    "    results = search.get_dict()[\"organic_results\"]\n",
    "    contexts = \"\\n---\\n\".join(\n",
    "        [\"\\n\".join([x[\"title\"], x[\"snippet\"], x[\"link\"]]) for x in results]\n",
    "    )\n",
    "    return contexts\n",
    "\n",
    "tools = [web_search]\n",
    "llm = ChatOpenAI(model=\"gpt-4-mini\")\n",
    "llm_with_tools = llm.bind_tools(tools)"
   ]
  },
  {
   "cell_type": "code",
   "execution_count": 6,
   "metadata": {},
   "outputs": [],
   "source": [
    "@tool(\"final_answer\")\n",
    "def final_answer(\n",
    "    introduction: str,\n",
    "    research_steps: str,\n",
    "    main_body: str,\n",
    "    conclusion: str,\n",
    "    sources: str\n",
    "):\n",
    "    \"\"\"Returns a natural language response to the user in the form of a research\n",
    "    report. There are several sections to this report, those are:\n",
    "    - `introduction`: a short paragraph introducing the user's question and the\n",
    "    topic we are researching.\n",
    "    - `research_steps`: a few bullet points explaining the steps that were taken\n",
    "    to research your report.\n",
    "    - `main_body`: this is where the bulk of high quality and concise\n",
    "    information that answers the user's question belongs. It is 3-4 paragraphs\n",
    "    long in length.\n",
    "    - `conclusion`: this is a short single paragraph conclusion providing a\n",
    "    concise but sophisticated view on what was found.\n",
    "    - `sources`: a bulletpoint list provided detailed sources for all information\n",
    "    referenced during the research process\n",
    "    \"\"\"\n",
    "    if type(research_steps) is list:\n",
    "        research_steps = \"\\n\".join([f\"- {r}\" for r in research_steps])\n",
    "    if type(sources) is list:\n",
    "        sources = \"\\n\".join([f\"- {s}\" for s in sources])\n",
    "    return \"\""
   ]
  },
  {
   "cell_type": "code",
   "execution_count": null,
   "metadata": {},
   "outputs": [],
   "source": [
    "# system_prompt = \"\"\"You are the oracle, the great AI decision maker.\n",
    "# Given the user's query you must decide what to do with it based on the\n",
    "# list of tools provided to you.\n",
    "\n",
    "# If you see that a tool has been used (in the scratchpad) with a particular\n",
    "# query, do NOT use that same tool with the same query again. Also, do NOT use\n",
    "# any tool more than twice (ie, if the tool appears in the scratchpad twice, do\n",
    "# not use it again).\n",
    "\n",
    "# You should aim to collect information from a diverse range of sources before\n",
    "# providing the answer to the user. Once you have collected plenty of information\n",
    "# to answer the user's question (stored in the scratchpad) use the final_answer\n",
    "# tool.\"\"\"\n",
    "\n",
    "# prompt = ChatPromptTemplate.from_messages([\n",
    "#     (\"system\", system_prompt),\n",
    "#     MessagesPlaceholder(variable_name=\"chat_history\"),\n",
    "#     (\"user\", \"{input}\"),\n",
    "#     (\"assistant\", \"scratchpad: {scratchpad}\"),\n",
    "# ])"
   ]
  },
  {
   "cell_type": "code",
   "execution_count": null,
   "metadata": {},
   "outputs": [],
   "source": [
    "# from langchain_core.messages import ToolCall, ToolMessage\n",
    "# from langchain_openai import ChatOpenAI\n",
    "\n",
    "# llm = ChatOpenAI(\n",
    "#     model=\"gpt-4o-mini\",\n",
    "#     openai_api_key=os.environ[\"OPENAI_API_KEY\"],\n",
    "#     temperature=0\n",
    "# )\n",
    "\n",
    "# tools=[\n",
    "#     web_search,\n",
    "#     final_answer\n",
    "# ]\n",
    "\n",
    "# # define a function to transform intermediate_steps from list\n",
    "# # of AgentAction to scratchpad string\n",
    "# def create_scratchpad(intermediate_steps: list[AgentAction]):\n",
    "#     research_steps = []\n",
    "#     for i, action in enumerate(intermediate_steps):\n",
    "#         if action.log != \"TBD\":\n",
    "#             # this was the ToolExecution\n",
    "#             research_steps.append(\n",
    "#                 f\"Tool: {action.tool}, input: {action.tool_input}\\n\"\n",
    "#                 f\"Output: {action.log}\"\n",
    "#             )\n",
    "#     return \"\\n---\\n\".join(research_steps)\n",
    "\n",
    "# oracle = (\n",
    "#     {\n",
    "#         \"input\": lambda x: x[\"input\"],\n",
    "#         \"chat_history\": lambda x: x[\"chat_history\"],\n",
    "#         \"scratchpad\": lambda x: create_scratchpad(\n",
    "#             intermediate_steps=x[\"intermediate_steps\"]\n",
    "#         ),\n",
    "#     }\n",
    "#     | prompt\n",
    "#     | llm.bind_tools(tools, tool_choice=\"any\")\n",
    "# )"
   ]
  },
  {
   "cell_type": "code",
   "execution_count": 7,
   "metadata": {},
   "outputs": [],
   "source": [
    "def init_research_agent(tool_keys, year=None, quarter=None):\n",
    "    tool_str_to_func = {\n",
    "            \"web_search\": web_search,\n",
    "            \"final_answer\": final_answer\n",
    "        }\n",
    "    \n",
    "    tools = [final_answer]\n",
    "    for val in tool_keys:\n",
    "        tools.append(tool_str_to_func[val])\n",
    "\n",
    "    ## Designing Agent Features and Prompt ##\n",
    "    system_prompt = f\"\"\"You are the oracle, the great AI decision maker.\n",
    "    Given the user's query you must decide what to do with it based on the\n",
    "    list of tools provided to you.\n",
    "\n",
    "    Context:\n",
    "    - Year: {year or 'Not specified'}\n",
    "    - Quarter: {quarter or 'Not specified'}\n",
    "\n",
    "    If you see that a tool has been used (in the scratchpad) with a particular\n",
    "    query, do NOT use that same tool with the same query again. Also, do NOT use\n",
    "    any tool more than twice (ie, if the tool appears in the scratchpad twice, do\n",
    "    not use it again).\n",
    "\n",
    "    You should aim to collect information from a diverse range of sources before\n",
    "    providing the answer to the user. Once you have collected plenty of information\n",
    "    to answer the user's question (stored in the scratchpad) use the final_answer\n",
    "    tool.\"\"\"\n",
    "\n",
    "    prompt = ChatPromptTemplate.from_messages([\n",
    "        (\"system\", system_prompt),\n",
    "        MessagesPlaceholder(variable_name=\"chat_history\"),\n",
    "        (\"user\", \"{input}\"),\n",
    "        (\"assistant\", \"scratchpad: {scratchpad}\"),\n",
    "    ])\n",
    "\n",
    "    llm = ChatOpenAI(\n",
    "        model=\"gpt-4o-mini\",\n",
    "        openai_api_key=os.environ[\"OPENAI_API_KEY\"],\n",
    "        temperature=0\n",
    "    )\n",
    "\n",
    "    def create_scratchpad(intermediate_steps: list[AgentAction]):\n",
    "        research_steps = []\n",
    "        for i, action in enumerate(intermediate_steps):\n",
    "            if action.log != \"TBD\":\n",
    "                # this was the ToolExecution\n",
    "                research_steps.append(\n",
    "                    f\"Tool: {action.tool}, input: {action.tool_input}\\n\"\n",
    "                    f\"Output: {action.log}\"\n",
    "                )\n",
    "        return \"\\n---\\n\".join(research_steps)\n",
    "\n",
    "    oracle = (\n",
    "        {\n",
    "            \"input\": lambda x: x[\"input\"],\n",
    "            \"chat_history\": lambda x: x[\"chat_history\"],\n",
    "            \"scratchpad\": lambda x: create_scratchpad(\n",
    "                intermediate_steps=x[\"intermediate_steps\"]\n",
    "            ),\n",
    "        }\n",
    "        | prompt\n",
    "        | llm.bind_tools(tools, tool_choice=\"any\")\n",
    "    )\n",
    "    return oracle\n"
   ]
  },
  {
   "cell_type": "code",
   "execution_count": 8,
   "metadata": {},
   "outputs": [],
   "source": [
    "def run_oracle(state: AgentState, oracle):\n",
    "    print(\"run_oracle\")\n",
    "    print(f\"intermediate_steps: {state['intermediate_steps']}\")\n",
    "    out = oracle.invoke(state)\n",
    "    tool_name = out.tool_calls[0][\"name\"]\n",
    "    tool_args = out.tool_calls[0][\"args\"]\n",
    "    action_out = AgentAction(\n",
    "        tool=tool_name,\n",
    "        tool_input=tool_args,\n",
    "        log=\"TBD\"\n",
    "    )\n",
    "    return {\n",
    "        **state,\n",
    "        \"intermediate_steps\": [action_out]\n",
    "    }\n",
    "\n",
    "def router(state: AgentState):\n",
    "    # return the tool name to use\n",
    "    if isinstance(state[\"intermediate_steps\"], list):\n",
    "        return state[\"intermediate_steps\"][-1].tool\n",
    "    else:\n",
    "        # if we output bad format go to final answer\n",
    "        print(\"Router invalid format\")\n",
    "        return \"final_answer\"\n",
    "    \n",
    "\n",
    "\n",
    "def run_tool(state: AgentState):\n",
    "    tool_str_to_func = {\n",
    "        \"web_search\": web_search,\n",
    "        \"final_answer\": final_answer\n",
    "    }\n",
    "    # use this as helper function so we repeat less code\n",
    "    tool_name = state[\"intermediate_steps\"][-1].tool\n",
    "    tool_args = state[\"intermediate_steps\"][-1].tool_input\n",
    "\n",
    "    if tool_name in [\"vector_search\"]:\n",
    "        tool_args = {\n",
    "            **tool_args,\n",
    "            \"year\": state.get(\"year\"),\n",
    "            \"quarter\": state.get(\"quarter\")\n",
    "        }\n",
    "    print(f\"{tool_name}.invoke(input={tool_args})\")\n",
    "    # run tool\n",
    "    out = tool_str_to_func[tool_name].invoke(input=tool_args)\n",
    "    action_out = AgentAction(\n",
    "        tool=tool_name,\n",
    "        tool_input=tool_args,\n",
    "        log=str(out)\n",
    "    )\n",
    "    return {\n",
    "        **state,\n",
    "        \"intermediate_steps\": [action_out]\n",
    "    }\n",
    "\n",
    "\n",
    "## Langraph - Designing the Graph\n",
    "def create_graph(research_agent, year=None, quarter=None):\n",
    "    tools=[\n",
    "        web_search,\n",
    "        final_answer\n",
    "    ]\n",
    "\n",
    "    graph = StateGraph(AgentState)  # Keep type definition here\n",
    "\n",
    "    # Pass state to all functions that require it\n",
    "    graph.add_node(\"oracle\", partial(run_oracle, oracle=research_agent))\n",
    "    graph.add_node(\"web_search\", run_tool)\n",
    "    graph.add_node(\"final_answer\", run_tool)\n",
    "\n",
    "    graph.set_entry_point(\"oracle\")\n",
    "\n",
    "    graph.add_conditional_edges(\n",
    "        source=\"oracle\",  # where in graph to start\n",
    "        path=router,  # function to determine which node is called\n",
    "    )\n",
    "\n",
    "    # create edges from each tool back to the oracle\n",
    "    for tool_obj in tools:\n",
    "        if tool_obj.name != \"final_answer\":\n",
    "            graph.add_edge(tool_obj.name, \"oracle\")\n",
    "\n",
    "    # if anything goes to final answer, it must then move to END\n",
    "    graph.add_edge(\"final_answer\", END)\n",
    "\n",
    "    runnable = graph.compile()\n",
    "    return runnable\n",
    "\n",
    "def run_agents(tool_keys, year=None, quarter=None):\n",
    "    research_agent = init_research_agent(tool_keys, year, quarter)\n",
    "    runnable = create_graph(research_agent, year, quarter)\n",
    "    return runnable"
   ]
  },
  {
   "cell_type": "code",
   "execution_count": 18,
   "metadata": {},
   "outputs": [],
   "source": [
    "tool_keys = [\"web_search\", \"final_answer\"]\n",
    "# tool_keys = [\"final_answer\"]\n",
    "\n",
    "oracle = init_research_agent(tool_keys)"
   ]
  },
  {
   "cell_type": "code",
   "execution_count": 9,
   "metadata": {},
   "outputs": [],
   "source": [
    "tool_keys = [\"web_search\", \"final_answer\"]\n",
    "year = \"2025\"\n",
    "quarter = [\"Q1\", \"Q2\"]\n",
    "runnable = run_agents(tool_keys, year, quarter)\n"
   ]
  },
  {
   "cell_type": "code",
   "execution_count": 10,
   "metadata": {},
   "outputs": [
    {
     "name": "stdout",
     "output_type": "stream",
     "text": [
      "run_oracle\n",
      "intermediate_steps: []\n",
      "web_search.invoke(input={'query': 'interesting facts about dogs'})\n",
      "run_oracle\n",
      "intermediate_steps: [AgentAction(tool='web_search', tool_input={'query': 'interesting facts about dogs'}, log='TBD'), AgentAction(tool='web_search', tool_input={'query': 'interesting facts about dogs'}, log=\"Interesting Facts About Dogs\\n– When a puppy is born, he is blind, deaf, and toothless. – All dogs, regardless of breed, are direct descendants of wolves and technically of the same species.\\nhttps://www.mspca.org/pet_resources/interesting-facts-about-dogs/\\n---\\n30 Fun and Fascinating Dog Facts\\nCheck out these 30 fun dog facts. 1. The Labrador Retriever has been on the AKC's top 10 most popular breeds list for longer than any other breed.\\nhttps://www.akc.org/expert-advice/lifestyle/dog-facts/\\n---\\nDog facts for kids!\\n2. They evolved from a now-extinct species of wolf. Dogs were the first animal domesticated (tamed) by humans, over 20,000 years ago!\\nhttps://www.natgeokids.com/uk/discover/animals/general-animals/dog-facts/\\n---\\nWhat are your favorite surprising or little known dog facts?\\nDogs have coevolved with humans for so long that they can actually read facial expressions and interpret many human gestures and body language.\\nhttps://www.reddit.com/r/dogs/comments/xqevhc/what_are_your_favorite_surprising_or_little_known/\")]\n",
      "final_answer.invoke(input={'introduction': 'Dogs are fascinating creatures that have been companions to humans for thousands of years. Their unique characteristics and behaviors make them one of the most beloved pets worldwide. Here are some interesting facts about dogs that highlight their remarkable nature.', 'research_steps': '1. Conducted a web search for interesting facts about dogs. 2. Reviewed multiple sources to gather diverse information. 3. Compiled the most intriguing facts into a cohesive report.', 'main_body': '1. Dogs are direct descendants of wolves, having evolved from a now-extinct species of wolf over 20,000 years ago. This long history of domestication has led to the development of various breeds, each with unique traits and characteristics. Despite their differences, all dogs belong to the same species, Canis lupus familiaris.\\n\\n2. When puppies are born, they are blind, deaf, and toothless, relying entirely on their mother for care and nourishment. As they grow, they develop their senses and begin to explore the world around them. This early stage of life is crucial for their socialization and development into well-adjusted adult dogs.\\n\\n3. One of the most remarkable aspects of dogs is their ability to understand human emotions and body language. They have coevolved with humans to the point where they can read facial expressions and interpret gestures, making them incredibly attuned to their owners\\' feelings. This bond is a significant reason why dogs are often referred to as \"man\\'s best friend.\"\\n\\n4. The Labrador Retriever holds the title for being the most popular dog breed in the United States, a position it has maintained for several years. This breed is known for its friendly nature, intelligence, and versatility, making it a favorite among families and service organizations alike.', 'conclusion': 'In summary, dogs are not only our companions but also remarkable animals with a rich history and unique abilities. Their evolution from wolves to beloved pets showcases their adaptability and the deep bond they share with humans.', 'sources': '- MSPCA: Interesting Facts About Dogs (https://www.mspca.org/pet_resources/interesting-facts-about-dogs/)\\n- AKC: 30 Fun and Fascinating Dog Facts (https://www.akc.org/expert-advice/lifestyle/dog-facts/)\\n- National Geographic Kids: Dog Facts (https://www.natgeokids.com/uk/discover/animals/general-animals/dog-facts/)'})\n"
     ]
    }
   ],
   "source": [
    "out = runnable.invoke({ \n",
    "    \"input\": \"tell me something interesting about dogs\", \n",
    "    \"chat_history\": [], \n",
    "    \"year\": year, \n",
    "    \"quarter\": quarter \n",
    "})"
   ]
  },
  {
   "cell_type": "markdown",
   "metadata": {},
   "source": [
    "## Test end"
   ]
  },
  {
   "cell_type": "code",
   "execution_count": 19,
   "metadata": {},
   "outputs": [
    {
     "data": {
      "text/plain": [
       "AIMessage(content='', additional_kwargs={'tool_calls': [{'id': 'call_jWgXflmaLeR3VV1wMBXnQH52', 'function': {'arguments': '{\"query\":\"interesting facts about dogs\"}', 'name': 'web_search'}, 'type': 'function'}], 'refusal': None}, response_metadata={'token_usage': {'completion_tokens': 18, 'prompt_tokens': 612, 'total_tokens': 630, 'completion_tokens_details': {'accepted_prediction_tokens': 0, 'audio_tokens': 0, 'reasoning_tokens': 0, 'rejected_prediction_tokens': 0}, 'prompt_tokens_details': {'audio_tokens': 0, 'cached_tokens': 0}}, 'model_name': 'gpt-4o-mini-2024-07-18', 'system_fingerprint': 'fp_bbfba58e46', 'id': 'chatcmpl-BFT3NVDR9qyij6PrjvGDkFM9xpB0T', 'finish_reason': 'tool_calls', 'logprobs': None}, id='run-b067df04-50a6-4d5c-9689-1f2a6acf2248-0', tool_calls=[{'name': 'web_search', 'args': {'query': 'interesting facts about dogs'}, 'id': 'call_jWgXflmaLeR3VV1wMBXnQH52', 'type': 'tool_call'}], usage_metadata={'input_tokens': 612, 'output_tokens': 18, 'total_tokens': 630, 'input_token_details': {'audio': 0, 'cache_read': 0}, 'output_token_details': {'audio': 0, 'reasoning': 0}})"
      ]
     },
     "execution_count": 19,
     "metadata": {},
     "output_type": "execute_result"
    }
   ],
   "source": [
    "inputs = {\n",
    "    \"input\": \"tell me something interesting about dogs\",\n",
    "    \"chat_history\": [],\n",
    "    \"intermediate_steps\": [],\n",
    "}\n",
    "out = oracle.invoke(inputs)\n",
    "out"
   ]
  },
  {
   "cell_type": "code",
   "execution_count": 20,
   "metadata": {},
   "outputs": [
    {
     "data": {
      "text/plain": [
       "'web_search'"
      ]
     },
     "execution_count": 20,
     "metadata": {},
     "output_type": "execute_result"
    }
   ],
   "source": [
    "out.tool_calls[0][\"name\"]"
   ]
  },
  {
   "cell_type": "code",
   "execution_count": 21,
   "metadata": {},
   "outputs": [
    {
     "data": {
      "text/plain": [
       "{'query': 'interesting facts about dogs'}"
      ]
     },
     "execution_count": 21,
     "metadata": {},
     "output_type": "execute_result"
    }
   ],
   "source": [
    "out.tool_calls[0][\"args\"]"
   ]
  },
  {
   "cell_type": "code",
   "execution_count": null,
   "metadata": {},
   "outputs": [],
   "source": [
    "# def run_oracle(state: list):\n",
    "#     print(\"run_oracle\")\n",
    "#     print(f\"intermediate_steps: {state['intermediate_steps']}\")\n",
    "#     out = oracle.invoke(state)\n",
    "#     tool_name = out.tool_calls[0][\"name\"]\n",
    "#     tool_args = out.tool_calls[0][\"args\"]\n",
    "#     action_out = AgentAction(\n",
    "#         tool=tool_name,\n",
    "#         tool_input=tool_args,\n",
    "#         log=\"TBD\"\n",
    "#     )\n",
    "#     return {\n",
    "#         \"intermediate_steps\": [action_out]\n",
    "#     }\n",
    "\n",
    "# def router(state: list):\n",
    "#     # return the tool name to use\n",
    "#     if isinstance(state[\"intermediate_steps\"], list):\n",
    "#         return state[\"intermediate_steps\"][-1].tool\n",
    "#     else:\n",
    "#         # if we output bad format go to final answer\n",
    "#         print(\"Router invalid format\")\n",
    "#         return \"final_answer\""
   ]
  },
  {
   "cell_type": "code",
   "execution_count": null,
   "metadata": {},
   "outputs": [],
   "source": [
    "# tool_str_to_func = {\n",
    "#     \"web_search\": web_search,\n",
    "#     \"final_answer\": final_answer\n",
    "# }\n",
    "\n",
    "# def run_tool(state: list):\n",
    "#     # use this as helper function so we repeat less code\n",
    "#     tool_name = state[\"intermediate_steps\"][-1].tool\n",
    "#     tool_args = state[\"intermediate_steps\"][-1].tool_input\n",
    "#     print(f\"{tool_name}.invoke(input={tool_args})\")\n",
    "#     # run tool\n",
    "#     out = tool_str_to_func[tool_name].invoke(input=tool_args)\n",
    "#     action_out = AgentAction(\n",
    "#         tool=tool_name,\n",
    "#         tool_input=tool_args,\n",
    "#         log=str(out)\n",
    "#     )\n",
    "#     return {\"intermediate_steps\": [action_out]}"
   ]
  },
  {
   "cell_type": "code",
   "execution_count": null,
   "metadata": {},
   "outputs": [],
   "source": [
    "# from langgraph.graph import StateGraph, END\n",
    "\n",
    "# graph = StateGraph(AgentState)\n",
    "\n",
    "# graph.add_node(\"oracle\", run_oracle)\n",
    "# graph.add_node(\"web_search\", run_tool)\n",
    "# graph.add_node(\"final_answer\", run_tool)\n",
    "\n",
    "# graph.set_entry_point(\"oracle\")\n",
    "\n",
    "# graph.add_conditional_edges(\n",
    "#     source=\"oracle\",  # where in graph to start\n",
    "#     path=router,  # function to determine which node is called\n",
    "# )\n",
    "\n",
    "# # create edges from each tool back to the oracle\n",
    "# for tool_obj in tools:\n",
    "#     if tool_obj.name != \"final_answer\":\n",
    "#         graph.add_edge(tool_obj.name, \"oracle\")\n",
    "\n",
    "# # if anything goes to final answer, it must then move to END\n",
    "# graph.add_edge(\"final_answer\", END)\n",
    "\n",
    "# runnable = graph.compile()"
   ]
  },
  {
   "cell_type": "code",
   "execution_count": 39,
   "metadata": {},
   "outputs": [],
   "source": [
    "# from IPython.display import Image\n",
    "\n",
    "# Image(runnable.get_graph().draw_png())"
   ]
  },
  {
   "cell_type": "code",
   "execution_count": 40,
   "metadata": {},
   "outputs": [
    {
     "name": "stdout",
     "output_type": "stream",
     "text": [
      "run_oracle\n",
      "intermediate_steps: []\n",
      "web_search.invoke(input={'query': 'interesting facts about dogs'})\n",
      "run_oracle\n",
      "intermediate_steps: [AgentAction(tool='web_search', tool_input={'query': 'interesting facts about dogs'}, log='TBD'), AgentAction(tool='web_search', tool_input={'query': 'interesting facts about dogs'}, log=\"30 Fun and Fascinating Dog Facts\\nCheck out these 30 fun dog facts. 1. The Labrador Retriever has been on the AKC's top 10 most popular breeds list for longer than any other breed.\\nhttps://www.akc.org/expert-advice/lifestyle/dog-facts/\\n---\\nInteresting Facts About Dogs\\n– When a puppy is born, he is blind, deaf, and toothless. – All dogs, regardless of breed, are direct descendants of wolves and technically of the same species.\\nhttps://www.mspca.org/pet_resources/interesting-facts-about-dogs/\\n---\\n10 Awesome Dog Facts\\nDog facts! · 1. Dogs are the most popular pet on the planet! · 2. They evolved from a now-extinct species of wolf. · 3. They can learn over 100 words and gestures!\\nhttps://www.natgeokids.com/au/discover/animals/general-animals/dog-facts/\\n---\\nWhat are your favorite surprising or little known dog facts?\\nDogs have coevolved with humans for so long that they can actually read facial expressions and interpret many human gestures and body language.\\nhttps://www.reddit.com/r/dogs/comments/xqevhc/what_are_your_favorite_surprising_or_little_known/\")]\n",
      "final_answer.invoke(input={'introduction': 'Dogs are fascinating creatures that have been companions to humans for thousands of years. Their unique characteristics and behaviors make them one of the most beloved pets worldwide.', 'research_steps': '1. Conducted a web search for interesting facts about dogs. 2. Reviewed multiple sources to gather diverse information. 3. Compiled notable facts and insights about dogs.', 'main_body': 'Dogs are not only the most popular pets globally, but they also have a rich history and unique traits that set them apart from other animals. One interesting fact is that all dogs, regardless of their breed, are direct descendants of wolves, showcasing their evolutionary journey. This connection to wolves is evident in their social behaviors and pack mentality. \\n\\nAnother remarkable aspect of dogs is their ability to understand human emotions and gestures. Research indicates that dogs can learn over 100 words and can interpret human facial expressions, making them incredibly attuned to their owners\\' feelings. This ability to communicate and bond with humans is one of the reasons why dogs are often referred to as \"man\\'s best friend.\" \\n\\nAdditionally, when puppies are born, they are blind, deaf, and toothless, relying entirely on their mother for care. As they grow, they develop their senses and begin to explore the world around them. The Labrador Retriever, for instance, has been a favorite breed in the United States for many years, consistently ranking at the top of the American Kennel Club\\'s list of most popular breeds.', 'conclusion': 'In summary, dogs are remarkable animals with a deep-rooted connection to humans, showcasing unique traits that enhance their role as companions. Their ability to understand and bond with us, along with their fascinating evolutionary background, makes them truly special.', 'sources': '- American Kennel Club: 30 Fun and Fascinating Dog Facts\\n- MSPCA: Interesting Facts About Dogs\\n- National Geographic Kids: 10 Awesome Dog Facts'})\n"
     ]
    }
   ],
   "source": [
    "out = runnable.invoke({\n",
    "    \"input\": \"tell me something interesting about dogs\",\n",
    "    \"chat_history\": [],\n",
    "})"
   ]
  },
  {
   "cell_type": "code",
   "execution_count": 41,
   "metadata": {},
   "outputs": [
    {
     "data": {
      "text/plain": [
       "{'introduction': 'Dogs are fascinating creatures that have been companions to humans for thousands of years. Their unique characteristics and behaviors make them one of the most beloved pets worldwide.',\n",
       " 'research_steps': '1. Conducted a web search for interesting facts about dogs. 2. Reviewed multiple sources to gather diverse information. 3. Compiled notable facts and insights about dogs.',\n",
       " 'main_body': 'Dogs are not only the most popular pets globally, but they also have a rich history and unique traits that set them apart from other animals. One interesting fact is that all dogs, regardless of their breed, are direct descendants of wolves, showcasing their evolutionary journey. This connection to wolves is evident in their social behaviors and pack mentality. \\n\\nAnother remarkable aspect of dogs is their ability to understand human emotions and gestures. Research indicates that dogs can learn over 100 words and can interpret human facial expressions, making them incredibly attuned to their owners\\' feelings. This ability to communicate and bond with humans is one of the reasons why dogs are often referred to as \"man\\'s best friend.\" \\n\\nAdditionally, when puppies are born, they are blind, deaf, and toothless, relying entirely on their mother for care. As they grow, they develop their senses and begin to explore the world around them. The Labrador Retriever, for instance, has been a favorite breed in the United States for many years, consistently ranking at the top of the American Kennel Club\\'s list of most popular breeds.',\n",
       " 'conclusion': 'In summary, dogs are remarkable animals with a deep-rooted connection to humans, showcasing unique traits that enhance their role as companions. Their ability to understand and bond with us, along with their fascinating evolutionary background, makes them truly special.',\n",
       " 'sources': '- American Kennel Club: 30 Fun and Fascinating Dog Facts\\n- MSPCA: Interesting Facts About Dogs\\n- National Geographic Kids: 10 Awesome Dog Facts'}"
      ]
     },
     "execution_count": 41,
     "metadata": {},
     "output_type": "execute_result"
    }
   ],
   "source": [
    "out[\"intermediate_steps\"][-1].tool_input"
   ]
  }
 ],
 "metadata": {
  "kernelspec": {
   "display_name": "DAMG_5",
   "language": "python",
   "name": "python3"
  },
  "language_info": {
   "codemirror_mode": {
    "name": "ipython",
    "version": 3
   },
   "file_extension": ".py",
   "mimetype": "text/x-python",
   "name": "python",
   "nbconvert_exporter": "python",
   "pygments_lexer": "ipython3",
   "version": "3.12.9"
  }
 },
 "nbformat": 4,
 "nbformat_minor": 2
}
